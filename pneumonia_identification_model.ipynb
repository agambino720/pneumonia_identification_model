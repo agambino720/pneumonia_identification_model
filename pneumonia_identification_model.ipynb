{
 "cells": [
  {
   "cell_type": "code",
   "execution_count": null,
   "metadata": {},
   "outputs": [],
   "source": []
  },
  {
   "cell_type": "markdown",
   "metadata": {},
   "source": [
    "## Loading in and Preprocessing the Dataset"
   ]
  },
  {
   "cell_type": "code",
   "execution_count": 1,
   "metadata": {},
   "outputs": [],
   "source": [
    "#importing necessary libraries\n",
    "import tensorflow as tf\n",
    "from tensorflow.keras import models, layers, regularizers\n",
    "from tensorflow.keras.preprocessing.image import ImageDataGenerator\n",
    "from tensorflow.keras.wrappers.scikit_learn import KerasClassifier\n",
    "from sklearn.model_selection import cross_val_predict\n",
    "import numpy as np\n",
    "from scikeras.wrappers import KerasClassifier"
   ]
  },
  {
   "cell_type": "code",
   "execution_count": 2,
   "metadata": {},
   "outputs": [
    {
     "name": "stdout",
     "output_type": "stream",
     "text": [
      "Found 3616 images belonging to 2 classes.\n",
      "Found 1616 images belonging to 2 classes.\n",
      "Found 624 images belonging to 2 classes.\n",
      "Class indices: {'NORMAL': 0, 'PNEUMONIA': 1}\n"
     ]
    }
   ],
   "source": [
    "#loading in and rescaling the data\n",
    "\n",
    "train_dir = 'train'\n",
    "val_dir = 'val'\n",
    "test_dir = 'test'\n",
    "\n",
    "# Create ImageDataGenerators with rescaling\n",
    "train_datagen = ImageDataGenerator(rescale=1./255)\n",
    "val_datagen = ImageDataGenerator(rescale=1./255)\n",
    "test_datagen = ImageDataGenerator(rescale=1./255)\n",
    "\n",
    "# Create Data Generators\n",
    "train_generator = train_datagen.flow_from_directory(\n",
    "    train_dir, \n",
    "    target_size=(150, 150), \n",
    "    batch_size=32, \n",
    "    class_mode='binary'\n",
    ")\n",
    "val_generator = val_datagen.flow_from_directory(\n",
    "    val_dir, \n",
    "    target_size=(150, 150), \n",
    "    batch_size=32, \n",
    "    class_mode='binary'\n",
    ")\n",
    "test_generator = test_datagen.flow_from_directory(\n",
    "    test_dir, \n",
    "    target_size=(150, 150), \n",
    "    batch_size=32, \n",
    "    class_mode='binary'\n",
    ")\n",
    "\n",
    "# Print the class indices\n",
    "print(\"Class indices:\", train_generator.class_indices)\n"
   ]
  },
  {
   "cell_type": "code",
   "execution_count": 6,
   "metadata": {},
   "outputs": [],
   "source": [
    "# Extracting data from generators to use with cross_val_predict\n",
    "def extract_data(generator):\n",
    "    X, y = [], []\n",
    "    # Iterate over the generator to get all batches\n",
    "    for _ in range(len(generator)):\n",
    "        x_batch, y_batch = generator.next()  # Get the next batch of images and labels\n",
    "        X.extend(x_batch)  # Append images to the list\n",
    "        y.extend(y_batch)  # Append labels to the list\n",
    "    return np.array(X), np.array(y)  # Convert lists to NumPy arrays\n",
    "\n",
    "# Extract data and labels from the training generator\n",
    "X_train_all, y_train_scaled = extract_data(train_generator)\n"
   ]
  },
  {
   "cell_type": "markdown",
   "metadata": {},
   "source": [
    "## Testing a Baseline Neural Network"
   ]
  },
  {
   "cell_type": "code",
   "execution_count": 8,
   "metadata": {},
   "outputs": [
    {
     "name": "stdout",
     "output_type": "stream",
     "text": [
      "Baseline Model Metrics:\n",
      "Accuracy: 0.964325221238938\n",
      "Precision: 0.9745489690721649\n",
      "Recall: 0.983739837398374\n",
      "F1 Score: 0.9791228354102606\n",
      "Confusion Matrix:\n",
      " [[ 462   79]\n",
      " [  50 3025]]\n"
     ]
    }
   ],
   "source": [
    "# Define, wrap, and test the baseline model on training data\n",
    "\n",
    "from sklearn.metrics import accuracy_score, precision_score, recall_score, f1_score, confusion_matrix\n",
    "\n",
    "# Define the input shape\n",
    "input_shape = (150, 150, 3)\n",
    "\n",
    "def create_baseline_model(input_shape=input_shape):\n",
    "    model = models.Sequential()\n",
    "    model.add(layers.Flatten(input_shape=input_shape))\n",
    "    model.add(layers.Dense(512, activation='relu'))\n",
    "    model.add(layers.Dense(1, activation='sigmoid'))\n",
    "    model.compile(optimizer='adam', loss='binary_crossentropy', metrics=['accuracy'])\n",
    "    return model\n",
    "\n",
    "# Wrap the model using SciKeras\n",
    "keras_wrapper_baseline = KerasClassifier(model=create_baseline_model, epochs=50, batch_size=32, verbose=0)\n",
    "\n",
    "# Perform cross-validation\n",
    "np.random.seed(123)\n",
    "cv_baseline_preds = cross_val_predict(keras_wrapper_baseline, X_train_all, y_train_scaled, cv=5)\n",
    "\n",
    "# Evaluate the predictions\n",
    "accuracy = accuracy_score(y_train_scaled, cv_baseline_preds)\n",
    "precision = precision_score(y_train_scaled, cv_baseline_preds)\n",
    "recall = recall_score(y_train_scaled, cv_baseline_preds)\n",
    "f1 = f1_score(y_train_scaled, cv_baseline_preds)\n",
    "conf_matrix = confusion_matrix(y_train_scaled, cv_baseline_preds)\n",
    "\n",
    "print(\"Baseline Model Metrics:\")\n",
    "print(\"Accuracy:\", accuracy)\n",
    "print(\"Precision:\", precision)\n",
    "print(\"Recall:\", recall)\n",
    "print(\"F1 Score:\", f1)\n",
    "print(\"Confusion Matrix:\\n\", conf_matrix)\n"
   ]
  },
  {
   "cell_type": "code",
   "execution_count": null,
   "metadata": {},
   "outputs": [],
   "source": [
    "# Evaluate the baseline model on the validation data\n",
    "val_loss, val_accuracy = baseline_model.evaluate(val_generator)\n",
    "print(f\"Validation Loss: {val_loss}\")\n",
    "print(f\"Validation Accuracy: {val_accuracy}\")\n",
    "\n",
    "# Get predictions for the validation data\n",
    "val_preds = baseline_model.predict(val_generator)\n",
    "val_preds = (val_preds > 0.5).astype(int)  # Convert probabilities to class labels\n",
    "\n",
    "# Get true labels from the validation generator\n",
    "val_true = val_generator.classes\n",
    "\n",
    "val_precision = precision_score(val_true, val_preds)\n",
    "val_recall = recall_score(val_true, val_preds)\n",
    "val_f1 = f1_score(val_true, val_preds)\n",
    "val_conf_matrix = confusion_matrix(val_true, val_preds)\n",
    "\n",
    "print(\"Validation Metrics:\")\n",
    "print(f\"Precision: {val_precision}\")\n",
    "print(f\"Recall: {val_recall}\")\n",
    "print(f\"F1 Score: {val_f1}\")\n",
    "print(f\"Confusion Matrix:\\n {val_conf_matrix}\")\n"
   ]
  },
  {
   "cell_type": "markdown",
   "metadata": {},
   "source": [
    "## Testing a L1 Regularized Neural Network"
   ]
  },
  {
   "cell_type": "code",
   "execution_count": 9,
   "metadata": {},
   "outputs": [
    {
     "name": "stdout",
     "output_type": "stream",
     "text": [
      "L1 Regularization Model Metrics:\n",
      "Accuracy: 0.8503871681415929\n",
      "Precision: 0.8503871681415929\n",
      "Recall: 1.0\n",
      "F1 Score: 0.9191451203108653\n",
      "Confusion Matrix:\n",
      " [[   0  541]\n",
      " [   0 3075]]\n"
     ]
    }
   ],
   "source": [
    "# Define, wrap, and test the L1 regularization model \n",
    "\n",
    "def create_l1_model(input_shape=(150, 150, 3)):\n",
    "    model = models.Sequential()\n",
    "    model.add(layers.Flatten(input_shape=input_shape))\n",
    "    model.add(layers.Dense(512, activation='relu', kernel_regularizer=regularizers.l1(0.01)))\n",
    "    model.add(layers.Dense(1, activation='sigmoid'))  # Sigmoid activation for binary classification\n",
    "    model.compile(optimizer='adam', loss='binary_crossentropy', metrics=['accuracy'])\n",
    "    return model\n",
    "\n",
    "# Wrap the model using SciKeras\n",
    "keras_wrapper_l1 = KerasClassifier(model=create_l1_model, epochs=50, batch_size=32, verbose=0)\n",
    "\n",
    "# Perform cross-validation\n",
    "np.random.seed(123)\n",
    "cv_l1_preds = cross_val_predict(keras_wrapper_l1, X_train_all, y_train_scaled, cv=5)\n",
    "\n",
    "# Evaluate the predictions\n",
    "accuracy_l1 = accuracy_score(y_train_scaled, cv_l1_preds)\n",
    "precision_l1 = precision_score(y_train_scaled, cv_l1_preds)\n",
    "recall_l1 = recall_score(y_train_scaled, cv_l1_preds)\n",
    "f1_l1 = f1_score(y_train_scaled, cv_l1_preds)\n",
    "conf_matrix_l1 = confusion_matrix(y_train_scaled, cv_l1_preds)\n",
    "\n",
    "print(\"L1 Regularization Model Metrics:\")\n",
    "print(\"Accuracy:\", accuracy_l1)\n",
    "print(\"Precision:\", precision_l1)\n",
    "print(\"Recall:\", recall_l1)\n",
    "print(\"F1 Score:\", f1_l1)\n",
    "print(\"Confusion Matrix:\\n\", conf_matrix_l1)\n"
   ]
  },
  {
   "cell_type": "code",
   "execution_count": null,
   "metadata": {},
   "outputs": [],
   "source": []
  }
 ],
 "metadata": {
  "kernelspec": {
   "display_name": "Python (learn-env)",
   "language": "python",
   "name": "learn-env"
  }
 },
 "nbformat": 4,
 "nbformat_minor": 4
}
