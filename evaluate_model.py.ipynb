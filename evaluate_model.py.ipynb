{
 "cells": [
  {
   "cell_type": "code",
   "execution_count": null,
   "metadata": {},
   "outputs": [],
   "source": [
    "# Evaluating the class balanced CNN model with dropout on the test data\n",
    "test_loss_class_balanced_dropout, test_accuracy_class_balanced_dropout = cnn_model_class_balanced_dropout.evaluate(test_generator)\n",
    "print(f\"Class Balanced CNN Model with Dropout Test Loss: {test_loss_class_balanced_dropout}\")\n",
    "print(f\"Class Balanced CNN Model with Dropout Test Accuracy: {test_accuracy_class_balanced_dropout}\")\n",
    "\n",
    "test_preds_class_balanced_dropout = cnn_model_class_balanced_dropout.predict(test_generator)\n",
    "test_preds_class_balanced_dropout = (test_preds_class_balanced_dropout > 0.5).astype(int)  # Convert probabilities to class labels\n",
    "\n",
    "test_true_class_balanced_dropout = test_generator.classes\n",
    "\n",
    "test_precision_class_balanced_dropout = precision_score(test_true_class_balanced_dropout, test_preds_class_balanced_dropout)\n",
    "test_recall_class_balanced_dropout = recall_score(test_true_class_balanced_dropout, test_preds_class_balanced_dropout)\n",
    "test_f1_class_balanced_dropout = f1_score(test_true_class_balanced_dropout, test_preds_class_balanced_dropout)\n",
    "test_conf_matrix_class_balanced_dropout = confusion_matrix(test_true_class_balanced_dropout, test_preds_class_balanced_dropout)\n",
    "\n",
    "print(\"Class Balanced CNN Model with Dropout Test Metrics:\")\n",
    "print(f\"Precision: {test_precision_class_balanced_dropout}\")\n",
    "print(f\"Recall: {test_recall_class_balanced_dropout}\")\n",
    "print(f\"F1 Score: {test_f1_class_balanced_dropout}\")\n",
    "print(f\"Confusion Matrix:\\n {test_conf_matrix_class_balanced_dropout}\")"
   ]
  }
 ],
 "metadata": {
  "kernelspec": {
   "display_name": "Python (learn-env)",
   "language": "python",
   "name": "learn-env"
  },
  "language_info": {
   "codemirror_mode": {
    "name": "ipython",
    "version": 3
   },
   "file_extension": ".py",
   "mimetype": "text/x-python",
   "name": "python",
   "nbconvert_exporter": "python",
   "pygments_lexer": "ipython3",
   "version": "3.8.5"
  }
 },
 "nbformat": 4,
 "nbformat_minor": 4
}
